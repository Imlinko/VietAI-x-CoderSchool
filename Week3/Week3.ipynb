{
 "cells": [
  {
   "cell_type": "markdown",
   "id": "82d12dc0",
   "metadata": {},
   "source": [
    "# Import "
   ]
  },
  {
   "cell_type": "code",
   "execution_count": 30,
   "id": "43026d40",
   "metadata": {},
   "outputs": [],
   "source": [
    "import gensim.downloader as api\n",
    "import numpy as np\n",
    "\n",
    "from sklearn.decomposition  import PCA\n",
    "import matplotlib.pyplot as plt"
   ]
  },
  {
   "cell_type": "code",
   "execution_count": 31,
   "id": "f0ca5623",
   "metadata": {},
   "outputs": [
    {
     "name": "stdout",
     "output_type": "stream",
     "text": [
      "[-6.4862e-01 -7.2943e-01  6.8938e-01  8.0913e-01  7.0819e-02 -1.2213e-01\n",
      "  1.6231e+00 -1.8273e-01 -1.2289e+00  5.9429e-02 -1.0436e+00  1.2083e-01\n",
      " -4.4898e+00 -3.5750e-01 -3.5122e-01  2.8184e-01  1.1997e-01  2.2602e-02\n",
      " -3.8894e-01  4.2605e-01  4.5974e-01 -8.8778e-01 -5.8235e-01  1.0916e-01\n",
      "  7.5807e-02  8.2031e-01 -7.7603e-01  5.0443e-01  1.1180e+00 -3.9499e-01\n",
      " -7.1192e-01 -1.5997e-01  3.8877e-01  1.1124e-03  4.6685e-01  2.1218e-01\n",
      "  1.9705e-01  2.5828e-01 -1.2860e-01  2.1203e-01 -1.4966e+00 -1.0162e+00\n",
      "  4.1185e-01  8.3209e-01 -7.3911e-01  3.2497e-01  7.9778e-01 -2.0234e-01\n",
      " -5.5853e-01 -3.2284e-02]\n"
     ]
    }
   ],
   "source": [
    "# 25, 50, 100 or 200. Số càng lớn thì càng chính xác, nhưng chạy càng lâu các bạn nhé\n",
    "model = api.load(\"glove-twitter-50\")\n",
    "word = \"beautiful\"\n",
    "print(model[word])"
   ]
  },
  {
   "cell_type": "markdown",
   "id": "1831d560",
   "metadata": {},
   "source": [
    "# Section 1 for word2vec"
   ]
  },
  {
   "cell_type": "code",
   "execution_count": 32,
   "id": "209b3dc4",
   "metadata": {},
   "outputs": [
    {
     "name": "stdout",
     "output_type": "stream",
     "text": [
      "1----------\n",
      "[('gorgeous', 0.924598217010498), ('lovely', 0.9044452905654907), ('amazing', 0.8897180557250977), ('wonderful', 0.8871688842773438), ('pretty', 0.8808601498603821), ('fabulous', 0.8739015460014343), ('love', 0.855770468711853), ('perfect', 0.8545977473258972), ('nice', 0.8446032404899597), ('beauty', 0.843619167804718)]\n"
     ]
    }
   ],
   "source": [
    "print(\"1----------\")\n",
    "result = model.most_similar(word, topn=10)\n",
    "print(result)"
   ]
  },
  {
   "cell_type": "markdown",
   "id": "b2bb52cb",
   "metadata": {},
   "source": [
    "# Section 2 for word2vec"
   ]
  },
  {
   "cell_type": "code",
   "execution_count": 33,
   "id": "470049ec",
   "metadata": {},
   "outputs": [
    {
     "name": "stdout",
     "output_type": "stream",
     "text": [
      "2----------\n"
     ]
    },
    {
     "name": "stdout",
     "output_type": "stream",
     "text": [
      "[('october', 0.9570534229278564), ('august', 0.9502836465835571), ('june', 0.9488087296485901), ('march', 0.9447520971298218), ('december', 0.9338072538375854), ('july', 0.9182709455490112), ('november', 0.9118183255195618), ('september', 0.8861154317855835), ('april', 0.8748382329940796), ('feb.', 0.8494142889976501)]\n"
     ]
    }
   ],
   "source": [
    "print(\"2----------\")\n",
    "result = model.most_similar(positive=[\"january\", \"february\"], topn=10)\n",
    "print(result)"
   ]
  },
  {
   "cell_type": "markdown",
   "id": "e0f0dccf",
   "metadata": {},
   "source": [
    "# Section 3 for word2vec"
   ]
  },
  {
   "cell_type": "code",
   "execution_count": 34,
   "id": "fe3d7b10",
   "metadata": {},
   "outputs": [
    {
     "name": "stdout",
     "output_type": "stream",
     "text": [
      "3----------\n",
      "0.7059574\n"
     ]
    }
   ],
   "source": [
    "print(\"3----------\")\n",
    "result = model.similarity(\"man\", \"woman\")\n",
    "print(result)"
   ]
  },
  {
   "cell_type": "markdown",
   "id": "5b0882e6",
   "metadata": {},
   "source": [
    "# Section 4 for word2vec"
   ]
  },
  {
   "cell_type": "code",
   "execution_count": 35,
   "id": "44e9abb9",
   "metadata": {},
   "outputs": [
    {
     "name": "stdout",
     "output_type": "stream",
     "text": [
      "4----------\n",
      "[('prince', 0.7597796320915222)]\n"
     ]
    }
   ],
   "source": [
    "print(\"4----------\")\n",
    "result = model.most_similar(positive=[\"woman\", \"king\"], negative=[\"man\"], topn=1)\n",
    "print(result)"
   ]
  },
  {
   "cell_type": "markdown",
   "id": "699ce02d",
   "metadata": {},
   "source": [
    "# Section 5 for word2vec"
   ]
  },
  {
   "cell_type": "markdown",
   "id": "a372d295",
   "metadata": {},
   "source": []
  },
  {
   "cell_type": "code",
   "execution_count": 36,
   "id": "839db716",
   "metadata": {},
   "outputs": [
    {
     "name": "stdout",
     "output_type": "stream",
     "text": [
      "5----------\n",
      "[('london', 0.7364553213119507)]\n"
     ]
    }
   ],
   "source": [
    "print(\"5----------\")\n",
    "result = model.most_similar(positive=[\"berlin\", \"vietnam\"], negative=[\"hanoi\"], topn=1)\n",
    "print(result)"
   ]
  },
  {
   "cell_type": "markdown",
   "id": "56cb5216",
   "metadata": {},
   "source": [
    "# Section 6 for word2vec"
   ]
  },
  {
   "cell_type": "code",
   "execution_count": 37,
   "id": "3f7d3740",
   "metadata": {},
   "outputs": [
    {
     "name": "stdout",
     "output_type": "stream",
     "text": [
      "6----------\n",
      "0.54308176\n"
     ]
    }
   ],
   "source": [
    "print(\"6----------\")\n",
    "result = model.similarity(\"marriage\", \"happiness\")\n",
    "print(result)"
   ]
  },
  {
   "cell_type": "code",
   "execution_count": 38,
   "id": "811fb5db",
   "metadata": {},
   "outputs": [
    {
     "name": "stdout",
     "output_type": "stream",
     "text": [
      "0.7059574\n"
     ]
    }
   ],
   "source": [
    "vec_A_embed = model[\"woman\"]\n",
    "vec_B_embed = model[\"man\"]\n",
    "result_ = model.similarity(\"man\",\"woman\")\n",
    "print(result_)"
   ]
  },
  {
   "cell_type": "code",
   "execution_count": 39,
   "id": "68e2391b",
   "metadata": {},
   "outputs": [],
   "source": [
    "\n",
    "#TODO: Các bạn thử viết 2 cách khác nhau để tính cosine similarity\n",
    "# giữa 2 vector nhé. Kết quả giống với khi dùng model.similarity() là được\n",
    "# 1 cách là dùng numpy, 1 cách là không dùng numpy nhé\n",
    "\n",
    "#Cosine similarity\n",
    "def consine_similarity(vec_1:np.ndarray,vec_2: np.ndarray) ->float: \n",
    "    c = np.dot(vec_1,vec_2)\n",
    "    vec_1_norm = np.linalg.norm(vec_1) \n",
    "    vec_2_norm = np.linalg.norm(vec_2)\n",
    "    return c / (vec_1_norm*vec_2_norm)\n"
   ]
  },
  {
   "cell_type": "code",
   "execution_count": 40,
   "id": "0c9d48c4",
   "metadata": {},
   "outputs": [
    {
     "data": {
      "text/plain": [
       "0.7059572"
      ]
     },
     "execution_count": 40,
     "metadata": {},
     "output_type": "execute_result"
    }
   ],
   "source": [
    "consine_similarity(\n",
    "    vec_1 = vec_A_embed,\n",
    "    vec_2 = vec_B_embed\n",
    ")"
   ]
  },
  {
   "cell_type": "code",
   "execution_count": 41,
   "id": "5a58c524",
   "metadata": {},
   "outputs": [],
   "source": [
    "#Không sử dụng numpy\n",
    "import math\n",
    "def dot_product(vec_1:list,vec_2:list):\n",
    "    res = 0\n",
    "    for i in range(len(vec_1)):\n",
    "        res+= vec_1[i]*vec_2[i] #Tích vô hướng của vector_A và vec_b\n",
    "    return res\n",
    "def norm(vec: list) -> float:\n",
    "    res = 0\n",
    "    for i in range(len(vec)):\n",
    "        res+=vec[i]**2\n",
    "    return math.sqrt(res) #Căn bậc 2 của tổng các vec[i] bình phương\n",
    "def consine_similarity_not_np(vec_a,vec_b):\n",
    "    return dot_product(vec_1 = vec_a,vec_2 = vec_b) / (norm(vec = vec_a)*norm(vec = vec_b))\n"
   ]
  },
  {
   "cell_type": "code",
   "execution_count": 42,
   "id": "9749dcb0",
   "metadata": {},
   "outputs": [
    {
     "data": {
      "text/plain": [
       "0.70596"
      ]
     },
     "execution_count": 42,
     "metadata": {},
     "output_type": "execute_result"
    }
   ],
   "source": [
    "float(f\"{consine_similarity_not_np(vec_a = vec_A_embed,vec_b = vec_B_embed):.5f}\")"
   ]
  },
  {
   "cell_type": "markdown",
   "id": "3117d5e5",
   "metadata": {},
   "source": [
    "VOCABULARY"
   ]
  },
  {
   "cell_type": "code",
   "execution_count": 58,
   "id": "fb67d1cb",
   "metadata": {},
   "outputs": [
    {
     "name": "stdout",
     "output_type": "stream",
     "text": [
      "4\n"
     ]
    }
   ],
   "source": [
    "vocabulary = [\"boy\",\"girl\",\"tiger\",\"dog\"] #Đầu vào là một cuốn từ điển n từ\n",
    "vectors_to_visualize = [model[word] for word in vocabulary] #Cho các từ vào model để tạo ra feature vector\n",
    "print(len(vectors_to_visualize))"
   ]
  },
  {
   "cell_type": "code",
   "execution_count": 61,
   "id": "bfc26ab9",
   "metadata": {},
   "outputs": [
    {
     "name": "stdout",
     "output_type": "stream",
     "text": [
      "[[-1.1863756  -0.48465797]\n",
      " [-2.21190569 -0.38044306]\n",
      " [ 2.50438656 -1.35970873]\n",
      " [ 0.89389472  2.22480976]]\n"
     ]
    }
   ],
   "source": [
    "#Sử dụng PCA để giảm chiều dữ liệu \n",
    "pca = PCA(n_components= 2)\n",
    "#Train mô hình và chuyển dạng dữ liệu thành ma trận 2 chiều\n",
    "reduce_vec = pca.fit_transform(vectors_to_visualize)"
   ]
  },
  {
   "cell_type": "code",
   "execution_count": 60,
   "id": "f904bae7",
   "metadata": {},
   "outputs": [
    {
     "data": {
      "image/png": "[encoded data removed]",
      "text/plain": [
       "<Figure size 500x1500 with 1 Axes>"
      ]
     },
     "metadata": {},
     "output_type": "display_data"
    }
   ],
   "source": [
    "plt.figure(figsize =(5,15))\n",
    "plt.scatter(reduce_vec[ :,0],reduce_vec[:,1])\n",
    "\n",
    "for i,word in enumerate(vocabulary):\n",
    "    plt.annotate(word, xy = (reduce_vec[i,0],reduce_vec[i,1]))\n",
    "\n",
    "plt.title(\"word2vec visualization with PCA\")\n",
    "plt.show()"
   ]
  }
 ],
 "metadata": {
  "kernelspec": {
   "display_name": "Python 3",
   "language": "python",
   "name": "python3"
  },
  "language_info": {
   "codemirror_mode": {
    "name": "ipython",
    "version": 3
   },
   "file_extension": ".py",
   "mimetype": "text/x-python",
   "name": "python",
   "nbconvert_exporter": "python",
   "pygments_lexer": "ipython3",
   "version": "3.12.3"
  }
 },
 "nbformat": 4,
 "nbformat_minor": 5
}
